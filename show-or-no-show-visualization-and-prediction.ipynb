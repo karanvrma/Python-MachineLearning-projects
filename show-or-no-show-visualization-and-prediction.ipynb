{
 "cells": [
  {
   "cell_type": "markdown",
   "execution_count": null,
   "metadata": {
    "_cell_guid": "b436d8c8-541b-4b40-a235-8b51cd565b13",
    "_execution_state": "idle",
    "_uuid": "a0b7ffeefad16e22b2ff6fcb076d270c4a9dcbac",
    "collapsed": false
   },
   "outputs": [],
   "source": [
    "# Show or No Show? Visualization and Prediction\n",
    "A beginner's attempt at using logistic regression to determine whether or not a patient is going to show up to an appointment.\n",
    "\n",
    "## Questions to Consider\n",
    "- What kinds of patients are we working with?\n",
    "- Depending on a patient's characteristics, will he or she show up or not?\n",
    "- What factors correlate the most to whether or not a patient shows up?\n",
    "- If it's possible to accurately predict who the no-shows are to an appointment, what incentives can we offer these people to encourage them to show up to appointments?"
   ]
  },
  {
   "cell_type": "code",
   "execution_count": 1,
   "metadata": {
    "_cell_guid": "10442f3f-ee2d-498e-9a2a-96eaa9a9454a",
    "_execution_state": "idle",
    "_uuid": "3b1ccc946941ca5eeae690739e3ea44e58efa7eb"
   },
   "outputs": [],
   "source": [
    "import numpy as np\n",
    "import pandas as pd\n",
    "import seaborn as sns\n",
    "sns.set_palette('Set2')\n",
    "import matplotlib.pyplot as plt\n",
    "%matplotlib inline\n",
    "\n",
    "from sklearn.model_selection import train_test_split\n",
    "from sklearn.linear_model import LogisticRegression\n",
    "\n",
    "data = pd.read_csv('../input/No-show-Issue-Comma-300k.csv')"
   ]
  },
  {
   "cell_type": "markdown",
   "execution_count": null,
   "metadata": {
    "_cell_guid": "7cf68bf6-cb93-48d5-9b58-b2f553353e28",
    "_execution_state": "idle",
    "_uuid": "ca5edbd09ba66e8b90a5e75e929fd8ca0a510358",
    "collapsed": false
   },
   "outputs": [],
   "source": [
    "# Preview the Data\n",
    "Let's see what we're working with.\n",
    "\n",
    "- 300k entries\n",
    "- Features: age, gender, appointment registration and appointment date, day of week, show-up or no-show status, diabetes, alcoholism, hypertension, handicap, smokes, scholarship, tuberculosis, sms_reminder, awaiting time (number of days since the appointment was made)\n",
    "- There are some spelling mistakes in the columns, so we can fix that up if we like.\n",
    "- The exact dates (appointment registration and appointment date) are not as helpful as the awaiting time, which we already have, so we can consider dropping them from the dataset.\n",
    "- There is at least one entry with a negative age, so we should also clean that later."
   ]
  },
  {
   "cell_type": "code",
   "execution_count": 2,
   "metadata": {
    "_cell_guid": "0344cac2-342e-4ca6-8b44-55bd43164af8",
    "_execution_state": "idle",
    "_uuid": "d6b4d259498fc4a3f055aca3476fd9067941977a",
    "collapsed": false
   },
   "outputs": [
    {
     "data": {
      "text/html": [
       "<div>\n",
       "<style>\n",
       "    .dataframe thead tr:only-child th {\n",
       "        text-align: right;\n",
       "    }\n",
       "\n",
       "    .dataframe thead th {\n",
       "        text-align: left;\n",
       "    }\n",
       "\n",
       "    .dataframe tbody tr th {\n",
       "        vertical-align: top;\n",
       "    }\n",
       "</style>\n",
       "<table border=\"1\" class=\"dataframe\">\n",
       "  <thead>\n",
       "    <tr style=\"text-align: right;\">\n",
       "      <th></th>\n",
       "      <th>Age</th>\n",
       "      <th>Gender</th>\n",
       "      <th>AppointmentRegistration</th>\n",
       "      <th>ApointmentData</th>\n",
       "      <th>DayOfTheWeek</th>\n",
       "      <th>Status</th>\n",
       "      <th>Diabetes</th>\n",
       "      <th>Alcoolism</th>\n",
       "      <th>HiperTension</th>\n",
       "      <th>Handcap</th>\n",
       "      <th>Smokes</th>\n",
       "      <th>Scholarship</th>\n",
       "      <th>Tuberculosis</th>\n",
       "      <th>Sms_Reminder</th>\n",
       "      <th>AwaitingTime</th>\n",
       "    </tr>\n",
       "  </thead>\n",
       "  <tbody>\n",
       "    <tr>\n",
       "      <th>0</th>\n",
       "      <td>19</td>\n",
       "      <td>M</td>\n",
       "      <td>2014-12-16T14:46:25Z</td>\n",
       "      <td>2015-01-14T00:00:00Z</td>\n",
       "      <td>Wednesday</td>\n",
       "      <td>Show-Up</td>\n",
       "      <td>0</td>\n",
       "      <td>0</td>\n",
       "      <td>0</td>\n",
       "      <td>0</td>\n",
       "      <td>0</td>\n",
       "      <td>0</td>\n",
       "      <td>0</td>\n",
       "      <td>0</td>\n",
       "      <td>-29</td>\n",
       "    </tr>\n",
       "    <tr>\n",
       "      <th>1</th>\n",
       "      <td>24</td>\n",
       "      <td>F</td>\n",
       "      <td>2015-08-18T07:01:26Z</td>\n",
       "      <td>2015-08-19T00:00:00Z</td>\n",
       "      <td>Wednesday</td>\n",
       "      <td>Show-Up</td>\n",
       "      <td>0</td>\n",
       "      <td>0</td>\n",
       "      <td>0</td>\n",
       "      <td>0</td>\n",
       "      <td>0</td>\n",
       "      <td>0</td>\n",
       "      <td>0</td>\n",
       "      <td>0</td>\n",
       "      <td>-1</td>\n",
       "    </tr>\n",
       "    <tr>\n",
       "      <th>2</th>\n",
       "      <td>4</td>\n",
       "      <td>F</td>\n",
       "      <td>2014-02-17T12:53:46Z</td>\n",
       "      <td>2014-02-18T00:00:00Z</td>\n",
       "      <td>Tuesday</td>\n",
       "      <td>Show-Up</td>\n",
       "      <td>0</td>\n",
       "      <td>0</td>\n",
       "      <td>0</td>\n",
       "      <td>0</td>\n",
       "      <td>0</td>\n",
       "      <td>0</td>\n",
       "      <td>0</td>\n",
       "      <td>0</td>\n",
       "      <td>-1</td>\n",
       "    </tr>\n",
       "    <tr>\n",
       "      <th>3</th>\n",
       "      <td>5</td>\n",
       "      <td>M</td>\n",
       "      <td>2014-07-23T17:02:11Z</td>\n",
       "      <td>2014-08-07T00:00:00Z</td>\n",
       "      <td>Thursday</td>\n",
       "      <td>Show-Up</td>\n",
       "      <td>0</td>\n",
       "      <td>0</td>\n",
       "      <td>0</td>\n",
       "      <td>0</td>\n",
       "      <td>0</td>\n",
       "      <td>0</td>\n",
       "      <td>0</td>\n",
       "      <td>1</td>\n",
       "      <td>-15</td>\n",
       "    </tr>\n",
       "    <tr>\n",
       "      <th>4</th>\n",
       "      <td>38</td>\n",
       "      <td>M</td>\n",
       "      <td>2015-10-21T15:20:09Z</td>\n",
       "      <td>2015-10-27T00:00:00Z</td>\n",
       "      <td>Tuesday</td>\n",
       "      <td>Show-Up</td>\n",
       "      <td>0</td>\n",
       "      <td>0</td>\n",
       "      <td>0</td>\n",
       "      <td>0</td>\n",
       "      <td>0</td>\n",
       "      <td>0</td>\n",
       "      <td>0</td>\n",
       "      <td>1</td>\n",
       "      <td>-6</td>\n",
       "    </tr>\n",
       "  </tbody>\n",
       "</table>\n",
       "</div>"
      ],
      "text/plain": [
       "   Age Gender AppointmentRegistration        ApointmentData DayOfTheWeek  \\\n",
       "0   19      M    2014-12-16T14:46:25Z  2015-01-14T00:00:00Z    Wednesday   \n",
       "1   24      F    2015-08-18T07:01:26Z  2015-08-19T00:00:00Z    Wednesday   \n",
       "2    4      F    2014-02-17T12:53:46Z  2014-02-18T00:00:00Z      Tuesday   \n",
       "3    5      M    2014-07-23T17:02:11Z  2014-08-07T00:00:00Z     Thursday   \n",
       "4   38      M    2015-10-21T15:20:09Z  2015-10-27T00:00:00Z      Tuesday   \n",
       "\n",
       "    Status  Diabetes  Alcoolism  HiperTension  Handcap  Smokes  Scholarship  \\\n",
       "0  Show-Up         0          0             0        0       0            0   \n",
       "1  Show-Up         0          0             0        0       0            0   \n",
       "2  Show-Up         0          0             0        0       0            0   \n",
       "3  Show-Up         0          0             0        0       0            0   \n",
       "4  Show-Up         0          0             0        0       0            0   \n",
       "\n",
       "   Tuberculosis  Sms_Reminder  AwaitingTime  \n",
       "0             0             0           -29  \n",
       "1             0             0            -1  \n",
       "2             0             0            -1  \n",
       "3             0             1           -15  \n",
       "4             0             1            -6  "
      ]
     },
     "execution_count": 2,
     "metadata": {},
     "output_type": "execute_result"
    }
   ],
   "source": [
    "data.head()"
   ]
  },
  {
   "cell_type": "code",
   "execution_count": 3,
   "metadata": {
    "_cell_guid": "fa43d205-b9f9-49c2-80fb-8233b629e247",
    "_execution_state": "idle",
    "_uuid": "510a013010aaec09a05a62a420ffd7329e8ae667",
    "collapsed": false
   },
   "outputs": [
    {
     "name": "stdout",
     "output_type": "stream",
     "text": [
      "<class 'pandas.core.frame.DataFrame'>\n",
      "RangeIndex: 300000 entries, 0 to 299999\n",
      "Data columns (total 15 columns):\n",
      "Age                        300000 non-null int64\n",
      "Gender                     300000 non-null object\n",
      "AppointmentRegistration    300000 non-null object\n",
      "ApointmentData             300000 non-null object\n",
      "DayOfTheWeek               300000 non-null object\n",
      "Status                     300000 non-null object\n",
      "Diabetes                   300000 non-null int64\n",
      "Alcoolism                  300000 non-null int64\n",
      "HiperTension               300000 non-null int64\n",
      "Handcap                    300000 non-null int64\n",
      "Smokes                     300000 non-null int64\n",
      "Scholarship                300000 non-null int64\n",
      "Tuberculosis               300000 non-null int64\n",
      "Sms_Reminder               300000 non-null int64\n",
      "AwaitingTime               300000 non-null int64\n",
      "dtypes: int64(10), object(5)\n",
      "memory usage: 34.3+ MB\n"
     ]
    }
   ],
   "source": [
    "data.info()"
   ]
  },
  {
   "cell_type": "code",
   "execution_count": 4,
   "metadata": {
    "_cell_guid": "93e5d1e2-37d6-4e2c-be4b-96e58a0da8df",
    "_execution_state": "idle",
    "_uuid": "2027562019adfe3f60a86ed3dbb42c40db4bfef7",
    "collapsed": false
   },
   "outputs": [
    {
     "data": {
      "text/html": [
       "<div>\n",
       "<style>\n",
       "    .dataframe thead tr:only-child th {\n",
       "        text-align: right;\n",
       "    }\n",
       "\n",
       "    .dataframe thead th {\n",
       "        text-align: left;\n",
       "    }\n",
       "\n",
       "    .dataframe tbody tr th {\n",
       "        vertical-align: top;\n",
       "    }\n",
       "</style>\n",
       "<table border=\"1\" class=\"dataframe\">\n",
       "  <thead>\n",
       "    <tr style=\"text-align: right;\">\n",
       "      <th></th>\n",
       "      <th>Age</th>\n",
       "      <th>Diabetes</th>\n",
       "      <th>Alcoolism</th>\n",
       "      <th>HiperTension</th>\n",
       "      <th>Handcap</th>\n",
       "      <th>Smokes</th>\n",
       "      <th>Scholarship</th>\n",
       "      <th>Tuberculosis</th>\n",
       "      <th>Sms_Reminder</th>\n",
       "      <th>AwaitingTime</th>\n",
       "    </tr>\n",
       "  </thead>\n",
       "  <tbody>\n",
       "    <tr>\n",
       "      <th>count</th>\n",
       "      <td>300000.000000</td>\n",
       "      <td>300000.000000</td>\n",
       "      <td>300000.000000</td>\n",
       "      <td>300000.000000</td>\n",
       "      <td>300000.000000</td>\n",
       "      <td>300000.000000</td>\n",
       "      <td>300000.000000</td>\n",
       "      <td>300000.000000</td>\n",
       "      <td>300000.000000</td>\n",
       "      <td>300000.000000</td>\n",
       "    </tr>\n",
       "    <tr>\n",
       "      <th>mean</th>\n",
       "      <td>37.808017</td>\n",
       "      <td>0.077967</td>\n",
       "      <td>0.025010</td>\n",
       "      <td>0.215890</td>\n",
       "      <td>0.020523</td>\n",
       "      <td>0.052370</td>\n",
       "      <td>0.096897</td>\n",
       "      <td>0.000450</td>\n",
       "      <td>0.574173</td>\n",
       "      <td>-13.841813</td>\n",
       "    </tr>\n",
       "    <tr>\n",
       "      <th>std</th>\n",
       "      <td>22.809014</td>\n",
       "      <td>0.268120</td>\n",
       "      <td>0.156156</td>\n",
       "      <td>0.411439</td>\n",
       "      <td>0.155934</td>\n",
       "      <td>0.222772</td>\n",
       "      <td>0.295818</td>\n",
       "      <td>0.021208</td>\n",
       "      <td>0.499826</td>\n",
       "      <td>15.687697</td>\n",
       "    </tr>\n",
       "    <tr>\n",
       "      <th>min</th>\n",
       "      <td>-2.000000</td>\n",
       "      <td>0.000000</td>\n",
       "      <td>0.000000</td>\n",
       "      <td>0.000000</td>\n",
       "      <td>0.000000</td>\n",
       "      <td>0.000000</td>\n",
       "      <td>0.000000</td>\n",
       "      <td>0.000000</td>\n",
       "      <td>0.000000</td>\n",
       "      <td>-398.000000</td>\n",
       "    </tr>\n",
       "    <tr>\n",
       "      <th>25%</th>\n",
       "      <td>19.000000</td>\n",
       "      <td>0.000000</td>\n",
       "      <td>0.000000</td>\n",
       "      <td>0.000000</td>\n",
       "      <td>0.000000</td>\n",
       "      <td>0.000000</td>\n",
       "      <td>0.000000</td>\n",
       "      <td>0.000000</td>\n",
       "      <td>0.000000</td>\n",
       "      <td>-20.000000</td>\n",
       "    </tr>\n",
       "    <tr>\n",
       "      <th>50%</th>\n",
       "      <td>38.000000</td>\n",
       "      <td>0.000000</td>\n",
       "      <td>0.000000</td>\n",
       "      <td>0.000000</td>\n",
       "      <td>0.000000</td>\n",
       "      <td>0.000000</td>\n",
       "      <td>0.000000</td>\n",
       "      <td>0.000000</td>\n",
       "      <td>1.000000</td>\n",
       "      <td>-8.000000</td>\n",
       "    </tr>\n",
       "    <tr>\n",
       "      <th>75%</th>\n",
       "      <td>56.000000</td>\n",
       "      <td>0.000000</td>\n",
       "      <td>0.000000</td>\n",
       "      <td>0.000000</td>\n",
       "      <td>0.000000</td>\n",
       "      <td>0.000000</td>\n",
       "      <td>0.000000</td>\n",
       "      <td>0.000000</td>\n",
       "      <td>1.000000</td>\n",
       "      <td>-4.000000</td>\n",
       "    </tr>\n",
       "    <tr>\n",
       "      <th>max</th>\n",
       "      <td>113.000000</td>\n",
       "      <td>1.000000</td>\n",
       "      <td>1.000000</td>\n",
       "      <td>1.000000</td>\n",
       "      <td>4.000000</td>\n",
       "      <td>1.000000</td>\n",
       "      <td>1.000000</td>\n",
       "      <td>1.000000</td>\n",
       "      <td>2.000000</td>\n",
       "      <td>-1.000000</td>\n",
       "    </tr>\n",
       "  </tbody>\n",
       "</table>\n",
       "</div>"
      ],
      "text/plain": [
       "                 Age       Diabetes      Alcoolism   HiperTension  \\\n",
       "count  300000.000000  300000.000000  300000.000000  300000.000000   \n",
       "mean       37.808017       0.077967       0.025010       0.215890   \n",
       "std        22.809014       0.268120       0.156156       0.411439   \n",
       "min        -2.000000       0.000000       0.000000       0.000000   \n",
       "25%        19.000000       0.000000       0.000000       0.000000   \n",
       "50%        38.000000       0.000000       0.000000       0.000000   \n",
       "75%        56.000000       0.000000       0.000000       0.000000   \n",
       "max       113.000000       1.000000       1.000000       1.000000   \n",
       "\n",
       "             Handcap         Smokes    Scholarship   Tuberculosis  \\\n",
       "count  300000.000000  300000.000000  300000.000000  300000.000000   \n",
       "mean        0.020523       0.052370       0.096897       0.000450   \n",
       "std         0.155934       0.222772       0.295818       0.021208   \n",
       "min         0.000000       0.000000       0.000000       0.000000   \n",
       "25%         0.000000       0.000000       0.000000       0.000000   \n",
       "50%         0.000000       0.000000       0.000000       0.000000   \n",
       "75%         0.000000       0.000000       0.000000       0.000000   \n",
       "max         4.000000       1.000000       1.000000       1.000000   \n",
       "\n",
       "        Sms_Reminder   AwaitingTime  \n",
       "count  300000.000000  300000.000000  \n",
       "mean        0.574173     -13.841813  \n",
       "std         0.499826      15.687697  \n",
       "min         0.000000    -398.000000  \n",
       "25%         0.000000     -20.000000  \n",
       "50%         1.000000      -8.000000  \n",
       "75%         1.000000      -4.000000  \n",
       "max         2.000000      -1.000000  "
      ]
     },
     "execution_count": 4,
     "metadata": {},
     "output_type": "execute_result"
    }
   ],
   "source": [
    "data.describe()"
   ]
  },
  {
   "cell_type": "code",
   "execution_count": 5,
   "metadata": {
    "_cell_guid": "935c9dfe-cdbe-4be2-b8c4-d861dec9796d",
    "_execution_state": "idle",
    "_uuid": "d462ce14057e7fd03000db99c5c504243fbc5ba1",
    "collapsed": false
   },
   "outputs": [],
   "source": [
    "# fix spelling mistakes before proceeding\n",
    "data.rename(columns={'Alcoolism': 'Alcoholism',\n",
    "                    'HiperTension': 'Hypertension',\n",
    "                    'Handcap': 'Handicap'}, inplace=True)\n",
    "# data.columns"
   ]
  },
  {
   "cell_type": "markdown",
   "execution_count": null,
   "metadata": {
    "_cell_guid": "de4eee20-e97a-4c1f-809e-8aa5b0b8dd51",
    "_execution_state": "idle",
    "_uuid": "0ad0a1eaad2a82a1f4c957dcba4a4f50629f4e22",
    "collapsed": false
   },
   "outputs": [],
   "source": [
    "# Data Visualization\n",
    "It's easier to see what we're working with if we visualize it using graphs rather than just looking at the numbers."
   ]
  },
  {
   "cell_type": "markdown",
   "execution_count": null,
   "metadata": {
    "_execution_state": "idle",
    "_uuid": "c13eddcdf6d6ace24b03a098eb4c14d5469cf92a",
    "collapsed": false
   },
   "outputs": [],
   "source": [
    "## Age and Gender\n",
    "\n",
    "- The majority of the patients are less than ~60 years old. The largest age group is in the 50s.\n",
    "- ~70% of the patients showed up and ~30% did not.\n",
    "- ~67% of the patients were female and the remaining were male.\n",
    "- Of the males who signed up for an appointment, ~45% did not show up to the appointment.\n",
    "- Of the females who signed up for an appointment, ~43% did not show up to the appointment. \n",
    "- It is difficult to tell whether gender plays enough of a role in whether a patient shows up or not, but it appears that males are slightly more likely to be no-shows."
   ]
  },
  {
   "cell_type": "code",
   "execution_count": 6,
   "metadata": {
    "_cell_guid": "980a303f-3721-4fa7-9f30-5b728b56b324",
    "_execution_state": "idle",
    "_uuid": "f332bf1a603e57f106efa63a6ce83a715c719a1f",
    "collapsed": false
   },
   "outputs": [
    {
     "data": {
      "image/png": "[encoded data removed]",
      "text/plain": [
       "<matplotlib.figure.Figure at 0x7f7a1861ea20>"
      ]
     },
     "metadata": {},
     "output_type": "display_data"
    }
   ],
   "source": [
    "# graph distribution of age\n",
    "g = sns.distplot(data['Age'], kde=False, bins=15)\n",
    "plt.show()"
   ]
  },
  {
   "cell_type": "code",
   "execution_count": 7,
   "metadata": {
    "_execution_state": "idle",
    "_uuid": "47468690d31a969a54171aee8ce0a572035a7075",
    "collapsed": false
   },
   "outputs": [
    {
     "data": {
      "image/png": "[encoded data removed]",
      "text/plain": [
       "<matplotlib.figure.Figure at 0x7f79cf9b7cf8>"
      ]
     },
     "metadata": {},
     "output_type": "display_data"
    }
   ],
   "source": [
    "# graph distribution of genders and status\n",
    "g = sns.FacetGrid(data, col='Status', row='Gender')\n",
    "g.map(plt.hist, 'Age')\n",
    "plt.show()"
   ]
  },
  {
   "cell_type": "code",
   "execution_count": 8,
   "metadata": {
    "_execution_state": "idle",
    "_uuid": "f7efa08cb2f6229a82684760fbc41fbfadb72980",
    "collapsed": false
   },
   "outputs": [
    {
     "data": {
      "image/png": "[encoded data removed]",
      "text/plain": [
       "<matplotlib.figure.Figure at 0x7f79cf62e048>"
      ]
     },
     "metadata": {},
     "output_type": "display_data"
    }
   ],
   "source": [
    "# pie chart of the no-shows and shows for both genders\n",
    "labels = ['No-Show - Female', 'Show - Female', 'Show - Male', 'No-Show - Male']\n",
    "sizes = [len(data[(data['Status'] == 'No-Show') & (data['Gender'] == 'F')]),\n",
    "         len(data[(data['Status'] == 'Show-Up') & (data['Gender'] == 'F')]),        \n",
    "         len(data[(data['Status'] == 'Show-Up') & (data['Gender'] == 'M')]),\n",
    "         len(data[(data['Status'] == 'No-Show') & (data['Gender'] == 'M')])]\n",
    "plt.pie(sizes, labels=labels, autopct='%1.1f%%', shadow=True, startangle=140)\n",
    "plt.show()"
   ]
  },
  {
   "cell_type": "markdown",
   "execution_count": null,
   "metadata": {
    "_execution_state": "idle",
    "_uuid": "b193616c5393e69aa2c68dca520b2b6e3cd3c3f1",
    "collapsed": false
   },
   "outputs": [],
   "source": [
    "## Days of the Week, Awaiting Times, and SMS Reminders\n",
    "- Most of the appointments are made on weekdays and not on weekends. The most popular appointment days are in the middle of the week (Wednesday, Tuesday, and Thursday). Mondays and Fridays are the least popular days for appointments.\n",
    "- Most of the patients waited less than 50 days for their schedule appointment.\n",
    "- As expected, patients who receive a SMS reminder are more likely to show up for their appointment.\n",
    "- Looking at the strip plot, it appears that SMS reminders are effective if appointments are more than 150 days away."
   ]
  },
  {
   "cell_type": "code",
   "execution_count": 9,
   "metadata": {
    "_execution_state": "idle",
    "_uuid": "e71ad96b5de30225af53128e40320f75e4b235f9",
    "collapsed": false
   },
   "outputs": [
    {
     "data": {
      "image/png": "[encoded data removed]",
      "text/plain": [
       "<matplotlib.figure.Figure at 0x7f79cf6d65f8>"
      ]
     },
     "metadata": {},
     "output_type": "display_data"
    }
   ],
   "source": [
    "# graph distribution of patients for each day of the week\n",
    "g = sns.countplot(x='DayOfTheWeek', hue='Status', data=data)\n",
    "plt.show()"
   ]
  },
  {
   "cell_type": "code",
   "execution_count": 10,
   "metadata": {
    "_execution_state": "idle",
    "_uuid": "381f82fac49f03fd266472f2f8b1d310fbe2470a",
    "collapsed": false
   },
   "outputs": [
    {
     "data": {
      "image/png": "[encoded data removed]",
      "text/plain": [
       "<matplotlib.figure.Figure at 0x7f79cf5f67b8>"
      ]
     },
     "metadata": {},
     "output_type": "display_data"
    }
   ],
   "source": [
    "# graph distribution of awaiting times\n",
    "g = sns.kdeplot(data['AwaitingTime'], shade=True)\n",
    "plt.show()"
   ]
  },
  {
   "cell_type": "code",
   "execution_count": 11,
   "metadata": {
    "_execution_state": "idle",
    "_uuid": "79f760ed7a3e365352863a9564742f4c985fd79e",
    "collapsed": false
   },
   "outputs": [
    {
     "data": {
      "image/png": "[encoded data removed]",
      "text/plain": [
       "<matplotlib.figure.Figure at 0x7f79cf790080>"
      ]
     },
     "metadata": {},
     "output_type": "display_data"
    }
   ],
   "source": [
    "# graph distribution of sms reminders\n",
    "g = sns.countplot(x='Sms_Reminder', hue='Status', data=data)\n",
    "plt.show()"
   ]
  },
  {
   "cell_type": "code",
   "execution_count": 12,
   "metadata": {
    "_execution_state": "idle",
    "_uuid": "d6a5d60e84924ae1fb3ad974370c3e878a329c70",
    "collapsed": false
   },
   "outputs": [
    {
     "data": {
      "image/png": "[encoded data removed]",
      "text/plain": [
       "<matplotlib.figure.Figure at 0x7f79cf36f208>"
      ]
     },
     "metadata": {},
     "output_type": "display_data"
    }
   ],
   "source": [
    "g = sns.stripplot(x='Status', y='AwaitingTime', data=data, \n",
    "                  hue='Sms_Reminder', jitter=True)\n",
    "plt.show()"
   ]
  },
  {
   "cell_type": "markdown",
   "execution_count": null,
   "metadata": {
    "_execution_state": "idle",
    "_uuid": "f28d2e4ab169d91fb4ae754375494d7176892fb7",
    "collapsed": false
   },
   "outputs": [],
   "source": [
    "## Scholarship\n",
    "Scholarship refers to money that is granted to those who may not be able to afford going to the doctor. It also emphasizes the importance of health and encourages people to go to the doctor when they need to.\n",
    "\n",
    "- ~30,000 patients have scholarships.\n",
    "- Although there are fewer people who have scholarships, it appears that people who have scholarships are more likely to not show up to appointments than people who don't have scholarships."
   ]
  },
  {
   "cell_type": "code",
   "execution_count": 13,
   "metadata": {
    "_execution_state": "idle",
    "_uuid": "5094974960c557335b75efd975d421c772af5f60",
    "collapsed": false
   },
   "outputs": [
    {
     "data": {
      "image/png": "[encoded data removed]",
      "text/plain": [
       "<matplotlib.figure.Figure at 0x7f79cf7adfd0>"
      ]
     },
     "metadata": {},
     "output_type": "display_data"
    }
   ],
   "source": [
    "g = sns.countplot(x='Scholarship', hue='Status', data=data)\n",
    "plt.show()"
   ]
  },
  {
   "cell_type": "markdown",
   "execution_count": null,
   "metadata": {
    "_execution_state": "idle",
    "_uuid": "dd7f4d4b0eff805da7e98ee6c8d594dac5f2210c",
    "collapsed": false
   },
   "outputs": [],
   "source": [
    "## Medical Conditions\n",
    "Instead of visualizing all of the different medical conditions, I decided to sum them up and store the result in a new column."
   ]
  },
  {
   "cell_type": "code",
   "execution_count": 14,
   "metadata": {
    "_execution_state": "idle",
    "_uuid": "0865600038456f19fbdd4e6fe67fdb45e779b732",
    "collapsed": false
   },
   "outputs": [
    {
     "data": {
      "image/png": "[encoded data removed]",
      "text/plain": [
       "<matplotlib.figure.Figure at 0x7f79cf36fe80>"
      ]
     },
     "metadata": {},
     "output_type": "display_data"
    }
   ],
   "source": [
    "# add a column to count the number of medical conditions each patient has\n",
    "sum = data['Diabetes'] + data['Alcoholism'] + data['Hypertension'] + \\\n",
    "    data['Handicap'] + data['Smokes'] + data['Tuberculosis']\n",
    "data['Number of Medical Conditions'] = sum\n",
    "# data.head(50)\n",
    "\n",
    "g = sns.countplot(x='Number of Medical Conditions', hue='Status', data=data)\n",
    "plt.legend(loc='upper right', title='Status')\n",
    "plt.show()"
   ]
  },
  {
   "cell_type": "markdown",
   "execution_count": null,
   "metadata": {
    "_cell_guid": "33548573-e95f-40b7-aabe-7ab2bb8a9d9e",
    "_execution_state": "idle",
    "_uuid": "647c1e9b06eb745199206ae55a18191bcfb23b99",
    "collapsed": false
   },
   "outputs": [],
   "source": [
    "# Cleaning Data\n",
    "- There are 6 people with a negative age, and their real ages are uncertain. Instead of dropping these entries, we can just change their ages to the average age of all of the people in the dataset.\n",
    "- Looking at the data, we probably don't care about the date of the appointment or the date when the patient registered for the appointment (AppointmentRegistration and ApointmentData).\n",
    "- We also need to convert the non-numerical columns to numerics before applying machine learning algorithms.\n",
    "- There are no null values, so we don't have to worry about that."
   ]
  },
  {
   "cell_type": "code",
   "execution_count": 15,
   "metadata": {
    "_cell_guid": "94774fb6-952e-45c9-866e-4e31ed5c84e3",
    "_execution_state": "idle",
    "_uuid": "6f4738a59eee56d4ed7382f34b1dd0bda07545a4",
    "collapsed": false
   },
   "outputs": [],
   "source": [
    "# data.describe()\n",
    "data.loc[data['Age'] < 0, 'Age'] = 38\n",
    "# data.describe()"
   ]
  },
  {
   "cell_type": "code",
   "execution_count": 16,
   "metadata": {
    "_cell_guid": "ec2d6b1d-585c-4cf4-9cd3-d3c00f842d0d",
    "_execution_state": "idle",
    "_uuid": "d4dca71779b6b1abc8e5d9d38515861d4d204516",
    "collapsed": false
   },
   "outputs": [],
   "source": [
    "# drop the specific dates and times\n",
    "data.drop(['AppointmentRegistration', 'ApointmentData'], inplace=True, axis=1)\n",
    "# data.head()"
   ]
  },
  {
   "cell_type": "code",
   "execution_count": 17,
   "metadata": {
    "_cell_guid": "f18a5fc4-de5e-4df7-bcc1-951d56569c76",
    "_execution_state": "idle",
    "_uuid": "2523839fcccd0d6ab2c6413cd46f77909f3e1a68",
    "collapsed": false
   },
   "outputs": [
    {
     "data": {
      "text/html": [
       "<div>\n",
       "<style>\n",
       "    .dataframe thead tr:only-child th {\n",
       "        text-align: right;\n",
       "    }\n",
       "\n",
       "    .dataframe thead th {\n",
       "        text-align: left;\n",
       "    }\n",
       "\n",
       "    .dataframe tbody tr th {\n",
       "        vertical-align: top;\n",
       "    }\n",
       "</style>\n",
       "<table border=\"1\" class=\"dataframe\">\n",
       "  <thead>\n",
       "    <tr style=\"text-align: right;\">\n",
       "      <th></th>\n",
       "      <th>Age</th>\n",
       "      <th>Gender</th>\n",
       "      <th>DayOfTheWeek</th>\n",
       "      <th>Status</th>\n",
       "      <th>Diabetes</th>\n",
       "      <th>Alcoholism</th>\n",
       "      <th>Hypertension</th>\n",
       "      <th>Handicap</th>\n",
       "      <th>Smokes</th>\n",
       "      <th>Scholarship</th>\n",
       "      <th>Tuberculosis</th>\n",
       "      <th>Sms_Reminder</th>\n",
       "      <th>AwaitingTime</th>\n",
       "      <th>Number of Medical Conditions</th>\n",
       "    </tr>\n",
       "  </thead>\n",
       "  <tbody>\n",
       "    <tr>\n",
       "      <th>0</th>\n",
       "      <td>19</td>\n",
       "      <td>0</td>\n",
       "      <td>3</td>\n",
       "      <td>1</td>\n",
       "      <td>0</td>\n",
       "      <td>0</td>\n",
       "      <td>0</td>\n",
       "      <td>0</td>\n",
       "      <td>0</td>\n",
       "      <td>0</td>\n",
       "      <td>0</td>\n",
       "      <td>0</td>\n",
       "      <td>-29</td>\n",
       "      <td>0</td>\n",
       "    </tr>\n",
       "    <tr>\n",
       "      <th>1</th>\n",
       "      <td>24</td>\n",
       "      <td>1</td>\n",
       "      <td>3</td>\n",
       "      <td>1</td>\n",
       "      <td>0</td>\n",
       "      <td>0</td>\n",
       "      <td>0</td>\n",
       "      <td>0</td>\n",
       "      <td>0</td>\n",
       "      <td>0</td>\n",
       "      <td>0</td>\n",
       "      <td>0</td>\n",
       "      <td>-1</td>\n",
       "      <td>0</td>\n",
       "    </tr>\n",
       "    <tr>\n",
       "      <th>2</th>\n",
       "      <td>4</td>\n",
       "      <td>1</td>\n",
       "      <td>2</td>\n",
       "      <td>1</td>\n",
       "      <td>0</td>\n",
       "      <td>0</td>\n",
       "      <td>0</td>\n",
       "      <td>0</td>\n",
       "      <td>0</td>\n",
       "      <td>0</td>\n",
       "      <td>0</td>\n",
       "      <td>0</td>\n",
       "      <td>-1</td>\n",
       "      <td>0</td>\n",
       "    </tr>\n",
       "    <tr>\n",
       "      <th>3</th>\n",
       "      <td>5</td>\n",
       "      <td>0</td>\n",
       "      <td>4</td>\n",
       "      <td>1</td>\n",
       "      <td>0</td>\n",
       "      <td>0</td>\n",
       "      <td>0</td>\n",
       "      <td>0</td>\n",
       "      <td>0</td>\n",
       "      <td>0</td>\n",
       "      <td>0</td>\n",
       "      <td>1</td>\n",
       "      <td>-15</td>\n",
       "      <td>0</td>\n",
       "    </tr>\n",
       "    <tr>\n",
       "      <th>4</th>\n",
       "      <td>38</td>\n",
       "      <td>0</td>\n",
       "      <td>2</td>\n",
       "      <td>1</td>\n",
       "      <td>0</td>\n",
       "      <td>0</td>\n",
       "      <td>0</td>\n",
       "      <td>0</td>\n",
       "      <td>0</td>\n",
       "      <td>0</td>\n",
       "      <td>0</td>\n",
       "      <td>1</td>\n",
       "      <td>-6</td>\n",
       "      <td>0</td>\n",
       "    </tr>\n",
       "  </tbody>\n",
       "</table>\n",
       "</div>"
      ],
      "text/plain": [
       "   Age  Gender  DayOfTheWeek  Status  Diabetes  Alcoholism  Hypertension  \\\n",
       "0   19       0             3       1         0           0             0   \n",
       "1   24       1             3       1         0           0             0   \n",
       "2    4       1             2       1         0           0             0   \n",
       "3    5       0             4       1         0           0             0   \n",
       "4   38       0             2       1         0           0             0   \n",
       "\n",
       "   Handicap  Smokes  Scholarship  Tuberculosis  Sms_Reminder  AwaitingTime  \\\n",
       "0         0       0            0             0             0           -29   \n",
       "1         0       0            0             0             0            -1   \n",
       "2         0       0            0             0             0            -1   \n",
       "3         0       0            0             0             1           -15   \n",
       "4         0       0            0             0             1            -6   \n",
       "\n",
       "   Number of Medical Conditions  \n",
       "0                             0  \n",
       "1                             0  \n",
       "2                             0  \n",
       "3                             0  \n",
       "4                             0  "
      ]
     },
     "execution_count": 17,
     "metadata": {},
     "output_type": "execute_result"
    }
   ],
   "source": [
    "# convert the non-numeric columns to numerics\n",
    "genderMap = {'M': 0, 'F':1}\n",
    "dayMap = {'Sunday': 0,\n",
    "         'Monday': 1,\n",
    "         'Tuesday': 2,\n",
    "         'Wednesday': 3,\n",
    "         'Thursday': 4, \n",
    "         'Friday': 5,\n",
    "         'Saturday': 6}\n",
    "statusMap = {'No-Show':0, 'Show-Up': 1}\n",
    "data = data.replace({'Gender': genderMap,\n",
    "                    'DayOfTheWeek': dayMap,\n",
    "                    'Status': statusMap})\n",
    "data.head()"
   ]
  },
  {
   "cell_type": "markdown",
   "execution_count": null,
   "metadata": {
    "_cell_guid": "46458390-9cb1-4868-a4c6-2beb6297bc2e",
    "_execution_state": "idle",
    "_uuid": "25364ab75432195932ec8da858059463ce1d8923",
    "collapsed": false
   },
   "outputs": [],
   "source": [
    "# Modeling and Prediction\n",
    "I pseudo-randomly split the dataset into two such that the training set has 60% of the data and the testing set has 40% of the data.\n",
    "\n",
    "## Logistic Regression\n",
    "Then, I used sklearn's logistic regression function to train and attempt to predict the Status of the testing data. There is approximately 70% accuracy, but looking at how the model correlates the features and the Status is interesting.\n",
    "\n",
    "- Sms_Reminder is the largest, positive coefficient. This implies that if people received a SMS reminder for the appointment, they are more likely to show up to the appointment. This is to be expected.\n",
    "\n",
    "- Alcoholism is the largest, negative coefficient. This implies that if someone has alcoholism, he/she is less likely to show up for the appointment. A similar statement can be said about patients who smoke.\n",
    "\n",
    "- As seen before while visualizing the data, patients who have scholarships are less likely to show up for their appointments as well, according to the model."
   ]
  },
  {
   "cell_type": "code",
   "execution_count": 18,
   "metadata": {
    "_cell_guid": "c1d7e964-ee6e-43f0-a953-e6233acbc842",
    "_execution_state": "idle",
    "_uuid": "3e77200392af4b88fe00e9f52bdb5c55d5f16184",
    "collapsed": false
   },
   "outputs": [
    {
     "data": {
      "text/plain": [
       "69.700000000000003"
      ]
     },
     "execution_count": 18,
     "metadata": {},
     "output_type": "execute_result"
    }
   ],
   "source": [
    "# separate the independent variables from the result, Status\n",
    "# also remove Number of Medical Conditions since it is dependent on other variables\n",
    "X = data.drop(['Status', 'Number of Medical Conditions'], axis=1)\n",
    "y = data['Status']\n",
    "\n",
    "# split the set into training and testing data\n",
    "X_train, X_test, y_train, y_test = train_test_split(X, y, test_size=0.4, random_state=42)\n",
    "\n",
    "# logistic regression\n",
    "logreg = LogisticRegression()\n",
    "logreg.fit(X_train, y_train)\n",
    "y_pred = logreg.predict(X_test)\n",
    "acc_log = round(logreg.score(X_train, y_train) * 100, 2)\n",
    "acc_log"
   ]
  },
  {
   "cell_type": "code",
   "execution_count": 19,
   "metadata": {
    "_cell_guid": "58b69b53-f386-458f-a037-0181504448b0",
    "_execution_state": "idle",
    "_uuid": "5c9a1bc0579e0b8c94aba1e9dd59dcd840e3d608",
    "collapsed": false
   },
   "outputs": [
    {
     "data": {
      "text/html": [
       "<div>\n",
       "<style>\n",
       "    .dataframe thead tr:only-child th {\n",
       "        text-align: right;\n",
       "    }\n",
       "\n",
       "    .dataframe thead th {\n",
       "        text-align: left;\n",
       "    }\n",
       "\n",
       "    .dataframe tbody tr th {\n",
       "        vertical-align: top;\n",
       "    }\n",
       "</style>\n",
       "<table border=\"1\" class=\"dataframe\">\n",
       "  <thead>\n",
       "    <tr style=\"text-align: right;\">\n",
       "      <th></th>\n",
       "      <th>Feature</th>\n",
       "      <th>Correlation</th>\n",
       "    </tr>\n",
       "  </thead>\n",
       "  <tbody>\n",
       "    <tr>\n",
       "      <th>10</th>\n",
       "      <td>Sms_Reminder</td>\n",
       "      <td>0.102464</td>\n",
       "    </tr>\n",
       "    <tr>\n",
       "      <th>5</th>\n",
       "      <td>Hypertension</td>\n",
       "      <td>0.051191</td>\n",
       "    </tr>\n",
       "    <tr>\n",
       "      <th>6</th>\n",
       "      <td>Handicap</td>\n",
       "      <td>0.019088</td>\n",
       "    </tr>\n",
       "    <tr>\n",
       "      <th>2</th>\n",
       "      <td>DayOfTheWeek</td>\n",
       "      <td>0.013532</td>\n",
       "    </tr>\n",
       "    <tr>\n",
       "      <th>11</th>\n",
       "      <td>AwaitingTime</td>\n",
       "      <td>0.009975</td>\n",
       "    </tr>\n",
       "    <tr>\n",
       "      <th>0</th>\n",
       "      <td>Age</td>\n",
       "      <td>0.009349</td>\n",
       "    </tr>\n",
       "    <tr>\n",
       "      <th>1</th>\n",
       "      <td>Gender</td>\n",
       "      <td>0.000113</td>\n",
       "    </tr>\n",
       "    <tr>\n",
       "      <th>3</th>\n",
       "      <td>Diabetes</td>\n",
       "      <td>-0.024501</td>\n",
       "    </tr>\n",
       "    <tr>\n",
       "      <th>9</th>\n",
       "      <td>Tuberculosis</td>\n",
       "      <td>-0.024986</td>\n",
       "    </tr>\n",
       "    <tr>\n",
       "      <th>8</th>\n",
       "      <td>Scholarship</td>\n",
       "      <td>-0.211431</td>\n",
       "    </tr>\n",
       "    <tr>\n",
       "      <th>7</th>\n",
       "      <td>Smokes</td>\n",
       "      <td>-0.249796</td>\n",
       "    </tr>\n",
       "    <tr>\n",
       "      <th>4</th>\n",
       "      <td>Alcoholism</td>\n",
       "      <td>-0.329173</td>\n",
       "    </tr>\n",
       "    <tr>\n",
       "      <th>12</th>\n",
       "      <td>Number of Medical Conditions</td>\n",
       "      <td>NaN</td>\n",
       "    </tr>\n",
       "  </tbody>\n",
       "</table>\n",
       "</div>"
      ],
      "text/plain": [
       "                         Feature  Correlation\n",
       "10                  Sms_Reminder     0.102464\n",
       "5                   Hypertension     0.051191\n",
       "6                       Handicap     0.019088\n",
       "2                   DayOfTheWeek     0.013532\n",
       "11                  AwaitingTime     0.009975\n",
       "0                            Age     0.009349\n",
       "1                         Gender     0.000113\n",
       "3                       Diabetes    -0.024501\n",
       "9                   Tuberculosis    -0.024986\n",
       "8                    Scholarship    -0.211431\n",
       "7                         Smokes    -0.249796\n",
       "4                     Alcoholism    -0.329173\n",
       "12  Number of Medical Conditions          NaN"
      ]
     },
     "execution_count": 19,
     "metadata": {},
     "output_type": "execute_result"
    }
   ],
   "source": [
    "# get correlations for each feature\n",
    "coeff_df = pd.DataFrame(data.columns.delete(3))\n",
    "coeff_df.columns = ['Feature']\n",
    "coeff_df['Correlation'] = pd.Series(logreg.coef_[0])\n",
    "\n",
    "coeff_df.sort_values(by='Correlation', ascending=False)"
   ]
  },
  {
   "cell_type": "markdown",
   "execution_count": null,
   "metadata": {
    "_execution_state": "idle",
    "_uuid": "652af5edc1aad22d730080c376e7848d96f2f299",
    "collapsed": false
   },
   "outputs": [],
   "source": [
    "# Conclusion\n",
    " - This model can predict whether or not patients are going to show up to their appointments with a 70% accuracy by using the above features.\n",
    " - To encourage people to commit to their appointments, clinics should send them SMS reminders or some other form of reminder. Some people have busy lives and may have forgotten about their appointments, especially if they made the appointments months in advance.\n",
    " - There must be some reason why alcoholics and smokers are less likely to commit to their appointment dates. It may be because they are worried about asking for help or being judged and looked down upon. To encourage them to attend their appointments, clinics/hospitals can openly offer help and treatment for both physical and mental health. If patients are worried about being negatively judged, clinics/hospitals should consider options where patients can ask for help anonymously, at least in the beginning.\n",
    " - I found it surprising that people with scholarships were less likely to show up to their appointments. This may be because these patients don't have to pay for their appointments, so they are not as invested as people who have to pay to see the doctor. However, that isn't to say that these people shouldn't receive scholarships at all since it is still necessary for those who can't afford it. Nonetheless, we should consider how to get patients with scholarships to make the most of their scholarships by showing up to the appointments they signed up for."
   ]
  }
 ],
 "metadata": {
  "kernelspec": {
   "display_name": "Python 3",
   "language": "python",
   "name": "python3"
  },
  "language_info": {
   "codemirror_mode": {
    "name": "ipython",
    "version": 3
   },
   "file_extension": ".py",
   "mimetype": "text/x-python",
   "name": "python",
   "nbconvert_exporter": "python",
   "pygments_lexer": "ipython3",
   "version": "3.6.1"
  }
 },
 "nbformat": 4,
 "nbformat_minor": 0
}
